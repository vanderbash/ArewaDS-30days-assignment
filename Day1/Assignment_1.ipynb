{
 "cells": [
  {
   "cell_type": "code",
   "execution_count": null,
   "metadata": {},
   "outputs": [],
   "source": []
  },
  {
   "cell_type": "markdown",
   "metadata": {},
   "source": [
    "# Exercise(s): Level 1 and 2"
   ]
  },
  {
   "cell_type": "markdown",
   "metadata": {},
   "source": [
    "## Check the python version you are using"
   ]
  },
  {
   "cell_type": "code",
   "execution_count": null,
   "metadata": {},
   "outputs": [],
   "source": [
    "!python --version #Python 3.10.13"
   ]
  },
  {
   "cell_type": "markdown",
   "metadata": {},
   "source": [
    "# Open the python interactive shell and do the following operations. The operands are 3 and 4."
   ]
  },
  {
   "cell_type": "code",
   "execution_count": null,
   "metadata": {},
   "outputs": [],
   "source": [
    "print(3 + 4)   #addition\n",
    "print(3 - 1)   # subtraction(-)\n",
    "print(2 * 3)   # multiplication(*)\n",
    "print(3 / 2)   # division(/)\n",
    "print(3 ** 2)  # exponential(**)\n",
    "print(3 % 2)   # modulus(%)\n",
    "print(3 // 2)  # Floor division operator(//)"
   ]
  },
  {
   "cell_type": "markdown",
   "metadata": {},
   "source": [
    "# Check the data types of the following data:"
   ]
  },
  {
   "cell_type": "code",
   "execution_count": null,
   "metadata": {},
   "outputs": [],
   "source": [
    "print(type(10))                  # Int\n",
    "print(type(9.8))                # Float\n",
    "print(type(3.14))                # Float\n",
    "print(type(4 - 4j))              # Complex\n",
    "print(type(['Asabeneh', 'Python', 'Finland'])) #list\n",
    "print(type('Ibrahim'))          # String\n",
    "print(type('Suleiman'))          # String\n",
    "print(type('Nigeria'))          # String"
   ]
  },
  {
   "cell_type": "markdown",
   "metadata": {},
   "source": [
    "# Exercise: Level 3\n",
    "#### 1. Write an example for different Python data types such as \n",
    "#### Number(Integer, Float, Complex), String, Boolean, List, Tuple, Set and Dictionary."
   ]
  },
  {
   "cell_type": "code",
   "execution_count": null,
   "metadata": {},
   "outputs": [],
   "source": [
    "interger = 1\n",
    "float_num = 1.0\n",
    "complext = 1 + 2j"
   ]
  },
  {
   "cell_type": "markdown",
   "metadata": {},
   "source": [
    "# String"
   ]
  },
  {
   "cell_type": "code",
   "execution_count": null,
   "metadata": {},
   "outputs": [],
   "source": [
    "#String\n",
    "string_exmpl = \"This is a string\"\n",
    "Boolean = True\n",
    "List = [1, 2, 3, 4, 5, 6, 7, 8, 9, 10]\n",
    "Tuple = (2, 3, 4, 5, 6, 7, 8, 9, 10)\n",
    "set_exmpl = {2, 3, 4, 5, 6, 7, 8, 9, 10}\n",
    "Dictionary = {\"name\":\" Ibrahim\", \"surname\":\"Suleiman\"}"
   ]
  },
  {
   "cell_type": "markdown",
   "metadata": {},
   "source": [
    "# 2. Find an Euclidian distance between (2, 3) and (10, 8)"
   ]
  },
  {
   "cell_type": "code",
   "execution_count": null,
   "metadata": {},
   "outputs": [],
   "source": [
    "import math \n",
    "point_1 = [2, 3]\n",
    "point_2 = [10, 8]\n",
    "Euclidian_distance = math.dist(point_1, point_2)\n",
    "print(Euclidian_distance) #Ans = 9.433981132056603"
   ]
  }
 ],
 "metadata": {
  "language_info": {
   "name": "python"
  }
 },
 "nbformat": 4,
 "nbformat_minor": 2
}
