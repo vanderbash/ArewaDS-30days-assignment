{
 "cells": [
  {
   "cell_type": "markdown",
   "metadata": {},
   "source": [
    "### 1. Read the hacker_news.csv file from data directory "
   ]
  },
  {
   "cell_type": "code",
   "execution_count": null,
   "metadata": {},
   "outputs": [],
   "source": [
    "import pandas as pd\n",
    "from urllib.request import urlretrieve\n",
    "\n",
    "hacker_news_url = \"https://raw.githubusercontent.com/arewadataScience/30-Days-of-Python/main/data/hacker_news.csv\"\n",
    "urlretrieve(hacker_news_url, 'hacker_news.csv')\n",
    "hacker_news_df = pd.read_csv('hacker_news.csv')"
   ]
  },
  {
   "cell_type": "markdown",
   "metadata": {},
   "source": [
    "### 1. Get the first five rows"
   ]
  },
  {
   "cell_type": "code",
   "execution_count": null,
   "metadata": {},
   "outputs": [],
   "source": [
    "hacker_news_df.head()"
   ]
  },
  {
   "cell_type": "markdown",
   "metadata": {},
   "source": [
    "### 1. Get the last five rows"
   ]
  },
  {
   "cell_type": "code",
   "execution_count": null,
   "metadata": {},
   "outputs": [],
   "source": [
    "last_five_rows = hacker_news_df.iloc[-5:]\n",
    "\n",
    "# Print the last five rows\n",
    "print(last_five_rows)"
   ]
  },
  {
   "cell_type": "code",
   "execution_count": null,
   "metadata": {},
   "outputs": [],
   "source": [
    "last_five_rows = hacker_news_df.tail(5)\n",
    "\n",
    "# Print the last five rows\n",
    "print(last_five_rows)"
   ]
  },
  {
   "cell_type": "code",
   "execution_count": null,
   "metadata": {},
   "outputs": [],
   "source": [
    "last_five_rows = hacker_news_df.iloc[-5:, :]\n",
    "\n",
    "# Print the last five rows\n",
    "print(last_five_rows)"
   ]
  },
  {
   "cell_type": "markdown",
   "metadata": {},
   "source": [
    "### 1. Get the title column as pandas series"
   ]
  },
  {
   "cell_type": "code",
   "execution_count": null,
   "metadata": {},
   "outputs": [],
   "source": [
    "# 1. Get the title column as pandas series\n",
    "title_series = hacker_news_df['title']\n",
    "\n",
    "# Print the resulting Series\n",
    "print(title_series)"
   ]
  },
  {
   "cell_type": "markdown",
   "metadata": {},
   "source": [
    "### 1. Count the number of rows and columns"
   ]
  },
  {
   "cell_type": "code",
   "execution_count": null,
   "metadata": {},
   "outputs": [],
   "source": [
    "\n",
    "num_rows, num_columns = hacker_news_df.shape\n",
    "\n",
    "# Print the number of rows and columns\n",
    "print(\"Number of rows:\", num_rows)\n",
    "print(\"Number of columns:\", num_columns)"
   ]
  },
  {
   "cell_type": "markdown",
   "metadata": {},
   "source": [
    "### 1. - Filter the titles which contain python"
   ]
  },
  {
   "cell_type": "code",
   "execution_count": null,
   "metadata": {},
   "outputs": [],
   "source": [
    "filtered_df = hacker_news_df[hacker_news_df['title'].str.contains('python', case=False)]\n",
    "\n",
    "# Print the filtered DataFrame\n",
    "print(filtered_df)"
   ]
  },
  {
   "cell_type": "markdown",
   "metadata": {},
   "source": [
    "### Filter the titles which contain JavaScript"
   ]
  },
  {
   "cell_type": "code",
   "execution_count": null,
   "metadata": {},
   "outputs": [],
   "source": [
    "filtered_df = hacker_news_df[hacker_news_df['title'].str.contains('JavaScript', case=False)]\n",
    "\n",
    "# Print the filtered DataFrame\n",
    "print(filtered_df)"
   ]
  },
  {
   "cell_type": "markdown",
   "metadata": {},
   "source": [
    "### Explore the data and make sense of it"
   ]
  },
  {
   "cell_type": "code",
   "execution_count": null,
   "metadata": {},
   "outputs": [],
   "source": [
    "hacker_news_df.info()"
   ]
  },
  {
   "cell_type": "code",
   "execution_count": null,
   "metadata": {},
   "outputs": [],
   "source": [
    "\"\"\"\n",
    "From the above data it indicates that the csv file or data has seven columns and 20099 number of rows. \n",
    "it has no null values in the numeric columns. it has three integer fields and four string data types fields. \n",
    "\"\"\""
   ]
  },
  {
   "cell_type": "code",
   "execution_count": null,
   "metadata": {},
   "outputs": [],
   "source": [
    "hacker_news_df.describe()"
   ]
  },
  {
   "cell_type": "code",
   "execution_count": null,
   "metadata": {},
   "outputs": [],
   "source": [
    "\"\"\"\n",
    "from the above table it can be seen that the number of counts is 20099.000000 is the number of entries in the data.\n",
    "The mean, standard deviation of the numeric coulumns are also indicated. The minimum and maximum entries are also \n",
    "indicated. The 50% num_points indiates the is not uniformly distributed along the num_points being the mean is 50.296632,\n",
    "the minimum is 1.000000\tand maximum is 2553.000000. The data is skewed towards one region, as can be seen from 25% \n",
    "percentile, the 75% and the maximum value. The skewness in the distribution is even worst in the case of num_comments \n",
    "columns.\n",
    "\n",
    " \"\"\""
   ]
  }
 ],
 "metadata": {
  "kernelspec": {
   "display_name": ".venv",
   "language": "python",
   "name": "python3"
  },
  "language_info": {
   "codemirror_mode": {
    "name": "ipython",
    "version": 3
   },
   "file_extension": ".py",
   "mimetype": "text/x-python",
   "name": "python",
   "nbconvert_exporter": "python",
   "pygments_lexer": "ipython3",
   "version": "3.11.6"
  }
 },
 "nbformat": 4,
 "nbformat_minor": 2
}
